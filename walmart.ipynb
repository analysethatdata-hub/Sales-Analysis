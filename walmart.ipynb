{
 "cells": [
  {
   "cell_type": "markdown",
   "id": "c7406b46-a0b1-4664-b2db-5bdb24ea7a7c",
   "metadata": {},
   "source": [
    "# 1. Importing different libraries"
   ]
  },
  {
   "cell_type": "code",
   "execution_count": 1,
   "id": "06026c21-b3a1-4139-950a-17507aa9b669",
   "metadata": {},
   "outputs": [],
   "source": [
    "import pandas as pd\n",
    "import numpy as np\n",
    "import seaborn as sns\n",
    "import matplotlib.pyplot as plt"
   ]
  },
  {
   "cell_type": "markdown",
   "id": "fc6daf91-9765-4fa9-b6e7-6b95109f635a",
   "metadata": {},
   "source": [
    "# 2. Retrieve the data"
   ]
  },
  {
   "cell_type": "code",
   "execution_count": 2,
   "id": "ccb7d405-7612-41e6-99b7-c45547cba802",
   "metadata": {},
   "outputs": [],
   "source": [
    "df=pd.read_csv('Walmart.csv')"
   ]
  },
  {
   "cell_type": "markdown",
   "id": "6febb294-5b1e-44c1-9f1c-4670d064781a",
   "metadata": {},
   "source": [
    "# 3. Data Preprocessing"
   ]
  },
  {
   "cell_type": "code",
   "execution_count": 3,
   "id": "615bc620-dd9d-4a8e-99ef-0cbd04aea1df",
   "metadata": {},
   "outputs": [
    {
     "data": {
      "text/html": [
       "<div>\n",
       "<style scoped>\n",
       "    .dataframe tbody tr th:only-of-type {\n",
       "        vertical-align: middle;\n",
       "    }\n",
       "\n",
       "    .dataframe tbody tr th {\n",
       "        vertical-align: top;\n",
       "    }\n",
       "\n",
       "    .dataframe thead th {\n",
       "        text-align: right;\n",
       "    }\n",
       "</style>\n",
       "<table border=\"1\" class=\"dataframe\">\n",
       "  <thead>\n",
       "    <tr style=\"text-align: right;\">\n",
       "      <th></th>\n",
       "      <th>invoice_id</th>\n",
       "      <th>Branch</th>\n",
       "      <th>City</th>\n",
       "      <th>category</th>\n",
       "      <th>unit_price</th>\n",
       "      <th>quantity</th>\n",
       "      <th>date</th>\n",
       "      <th>time</th>\n",
       "      <th>payment_method</th>\n",
       "      <th>rating</th>\n",
       "      <th>profit_margin</th>\n",
       "    </tr>\n",
       "  </thead>\n",
       "  <tbody>\n",
       "    <tr>\n",
       "      <th>0</th>\n",
       "      <td>1</td>\n",
       "      <td>WALM003</td>\n",
       "      <td>San Antonio</td>\n",
       "      <td>Health and beauty</td>\n",
       "      <td>$74.69</td>\n",
       "      <td>7.0</td>\n",
       "      <td>05/01/19</td>\n",
       "      <td>13:08:00</td>\n",
       "      <td>Ewallet</td>\n",
       "      <td>9.1</td>\n",
       "      <td>0.48</td>\n",
       "    </tr>\n",
       "    <tr>\n",
       "      <th>1</th>\n",
       "      <td>2</td>\n",
       "      <td>WALM048</td>\n",
       "      <td>Harlingen</td>\n",
       "      <td>Electronic accessories</td>\n",
       "      <td>$15.28</td>\n",
       "      <td>5.0</td>\n",
       "      <td>08/03/19</td>\n",
       "      <td>10:29:00</td>\n",
       "      <td>Cash</td>\n",
       "      <td>9.6</td>\n",
       "      <td>0.48</td>\n",
       "    </tr>\n",
       "    <tr>\n",
       "      <th>2</th>\n",
       "      <td>3</td>\n",
       "      <td>WALM067</td>\n",
       "      <td>Haltom City</td>\n",
       "      <td>Home and lifestyle</td>\n",
       "      <td>$46.33</td>\n",
       "      <td>7.0</td>\n",
       "      <td>03/03/19</td>\n",
       "      <td>13:23:00</td>\n",
       "      <td>Credit card</td>\n",
       "      <td>7.4</td>\n",
       "      <td>0.33</td>\n",
       "    </tr>\n",
       "    <tr>\n",
       "      <th>3</th>\n",
       "      <td>4</td>\n",
       "      <td>WALM064</td>\n",
       "      <td>Bedford</td>\n",
       "      <td>Health and beauty</td>\n",
       "      <td>$58.22</td>\n",
       "      <td>8.0</td>\n",
       "      <td>27/01/19</td>\n",
       "      <td>20:33:00</td>\n",
       "      <td>Ewallet</td>\n",
       "      <td>8.4</td>\n",
       "      <td>0.33</td>\n",
       "    </tr>\n",
       "    <tr>\n",
       "      <th>4</th>\n",
       "      <td>5</td>\n",
       "      <td>WALM013</td>\n",
       "      <td>Irving</td>\n",
       "      <td>Sports and travel</td>\n",
       "      <td>$86.31</td>\n",
       "      <td>7.0</td>\n",
       "      <td>08/02/19</td>\n",
       "      <td>10:37:00</td>\n",
       "      <td>Ewallet</td>\n",
       "      <td>5.3</td>\n",
       "      <td>0.48</td>\n",
       "    </tr>\n",
       "  </tbody>\n",
       "</table>\n",
       "</div>"
      ],
      "text/plain": [
       "   invoice_id   Branch         City                category unit_price  \\\n",
       "0           1  WALM003  San Antonio       Health and beauty     $74.69   \n",
       "1           2  WALM048    Harlingen  Electronic accessories     $15.28   \n",
       "2           3  WALM067  Haltom City      Home and lifestyle     $46.33   \n",
       "3           4  WALM064      Bedford       Health and beauty     $58.22   \n",
       "4           5  WALM013       Irving       Sports and travel     $86.31   \n",
       "\n",
       "   quantity      date      time payment_method  rating  profit_margin  \n",
       "0       7.0  05/01/19  13:08:00        Ewallet     9.1           0.48  \n",
       "1       5.0  08/03/19  10:29:00           Cash     9.6           0.48  \n",
       "2       7.0  03/03/19  13:23:00    Credit card     7.4           0.33  \n",
       "3       8.0  27/01/19  20:33:00        Ewallet     8.4           0.33  \n",
       "4       7.0  08/02/19  10:37:00        Ewallet     5.3           0.48  "
      ]
     },
     "execution_count": 3,
     "metadata": {},
     "output_type": "execute_result"
    }
   ],
   "source": [
    "df.head()"
   ]
  },
  {
   "cell_type": "markdown",
   "id": "3ef8992d-c23d-4560-af61-68f1c9e4c045",
   "metadata": {},
   "source": [
    "#### 3.1 Null Handling"
   ]
  },
  {
   "cell_type": "code",
   "execution_count": 4,
   "id": "bbfdb31a-d928-4467-9439-b273ad89c671",
   "metadata": {},
   "outputs": [
    {
     "name": "stdout",
     "output_type": "stream",
     "text": [
      "<class 'pandas.core.frame.DataFrame'>\n",
      "RangeIndex: 10051 entries, 0 to 10050\n",
      "Data columns (total 11 columns):\n",
      " #   Column          Non-Null Count  Dtype  \n",
      "---  ------          --------------  -----  \n",
      " 0   invoice_id      10051 non-null  int64  \n",
      " 1   Branch          10051 non-null  object \n",
      " 2   City            10051 non-null  object \n",
      " 3   category        10051 non-null  object \n",
      " 4   unit_price      10020 non-null  object \n",
      " 5   quantity        10020 non-null  float64\n",
      " 6   date            10051 non-null  object \n",
      " 7   time            10051 non-null  object \n",
      " 8   payment_method  10051 non-null  object \n",
      " 9   rating          10051 non-null  float64\n",
      " 10  profit_margin   10051 non-null  float64\n",
      "dtypes: float64(3), int64(1), object(7)\n",
      "memory usage: 863.9+ KB\n"
     ]
    }
   ],
   "source": [
    "df.info()"
   ]
  },
  {
   "cell_type": "code",
   "execution_count": 5,
   "id": "80fcbde4-3960-41fd-a26e-bf546f8633e9",
   "metadata": {
    "scrolled": true
   },
   "outputs": [
    {
     "data": {
      "text/plain": [
       "invoice_id         0\n",
       "Branch             0\n",
       "City               0\n",
       "category           0\n",
       "unit_price        31\n",
       "quantity          31\n",
       "date               0\n",
       "time               0\n",
       "payment_method     0\n",
       "rating             0\n",
       "profit_margin      0\n",
       "dtype: int64"
      ]
     },
     "execution_count": 5,
     "metadata": {},
     "output_type": "execute_result"
    }
   ],
   "source": [
    "df.isna().sum()"
   ]
  },
  {
   "cell_type": "code",
   "execution_count": 6,
   "id": "e07ccb48-69bc-4537-81b8-a90456bef4f5",
   "metadata": {},
   "outputs": [
    {
     "data": {
      "image/png": "[encoded data removed]",
      "text/plain": [
       "<Figure size 640x480 with 2 Axes>"
      ]
     },
     "metadata": {},
     "output_type": "display_data"
    }
   ],
   "source": [
    "sns.heatmap(df.isna())\n",
    "plt.show()"
   ]
  },
  {
   "cell_type": "code",
   "execution_count": 7,
   "id": "c388f180-6756-42b6-a60c-4c0386aa3ba1",
   "metadata": {},
   "outputs": [],
   "source": [
    "df.dropna(inplace=True)"
   ]
  },
  {
   "cell_type": "code",
   "execution_count": 8,
   "id": "245f7afb-9d78-4860-8ad1-645e1113139b",
   "metadata": {},
   "outputs": [
    {
     "data": {
      "image/png": "[encoded data removed]",
      "text/plain": [
       "<Figure size 640x480 with 2 Axes>"
      ]
     },
     "metadata": {},
     "output_type": "display_data"
    }
   ],
   "source": [
    "sns.heatmap(df.isna())\n",
    "plt.show()"
   ]
  },
  {
   "cell_type": "code",
   "execution_count": 9,
   "id": "05c53dfe-c414-4d76-8074-60c03c769786",
   "metadata": {},
   "outputs": [
    {
     "name": "stdout",
     "output_type": "stream",
     "text": [
      "<class 'pandas.core.frame.DataFrame'>\n",
      "Index: 10020 entries, 0 to 10050\n",
      "Data columns (total 11 columns):\n",
      " #   Column          Non-Null Count  Dtype  \n",
      "---  ------          --------------  -----  \n",
      " 0   invoice_id      10020 non-null  int64  \n",
      " 1   Branch          10020 non-null  object \n",
      " 2   City            10020 non-null  object \n",
      " 3   category        10020 non-null  object \n",
      " 4   unit_price      10020 non-null  object \n",
      " 5   quantity        10020 non-null  float64\n",
      " 6   date            10020 non-null  object \n",
      " 7   time            10020 non-null  object \n",
      " 8   payment_method  10020 non-null  object \n",
      " 9   rating          10020 non-null  float64\n",
      " 10  profit_margin   10020 non-null  float64\n",
      "dtypes: float64(3), int64(1), object(7)\n",
      "memory usage: 939.4+ KB\n"
     ]
    }
   ],
   "source": [
    "df.info()"
   ]
  },
  {
   "cell_type": "markdown",
   "id": "27d5525e-6081-491d-8c97-7ec7d4dc40a8",
   "metadata": {},
   "source": [
    "#### 3.2 Checking Duplicates"
   ]
  },
  {
   "cell_type": "code",
   "execution_count": 10,
   "id": "47cfea70-c829-465e-b342-fd45a9a84eaf",
   "metadata": {},
   "outputs": [
    {
     "name": "stdout",
     "output_type": "stream",
     "text": [
      "Are there any duplicates ? True\n"
     ]
    }
   ],
   "source": [
    "print('Are there any duplicates ?',df.duplicated().any())"
   ]
  },
  {
   "cell_type": "code",
   "execution_count": 11,
   "id": "3ab1022b-9a97-4fcd-b0bf-9cc5e1336000",
   "metadata": {},
   "outputs": [],
   "source": [
    "df.drop_duplicates(inplace=True)"
   ]
  },
  {
   "cell_type": "code",
   "execution_count": 12,
   "id": "af1288b4-24dc-4cfe-bc2f-4ef63f8ab038",
   "metadata": {},
   "outputs": [
    {
     "name": "stdout",
     "output_type": "stream",
     "text": [
      "Are there any duplicates ? False\n"
     ]
    }
   ],
   "source": [
    "print('Are there any duplicates ?',df.duplicated().any())"
   ]
  },
  {
   "cell_type": "code",
   "execution_count": 13,
   "id": "e57b7b85-e5cf-4228-9b80-6b7b7d6c6918",
   "metadata": {},
   "outputs": [
    {
     "name": "stdout",
     "output_type": "stream",
     "text": [
      "<class 'pandas.core.frame.DataFrame'>\n",
      "Index: 9969 entries, 0 to 9999\n",
      "Data columns (total 11 columns):\n",
      " #   Column          Non-Null Count  Dtype  \n",
      "---  ------          --------------  -----  \n",
      " 0   invoice_id      9969 non-null   int64  \n",
      " 1   Branch          9969 non-null   object \n",
      " 2   City            9969 non-null   object \n",
      " 3   category        9969 non-null   object \n",
      " 4   unit_price      9969 non-null   object \n",
      " 5   quantity        9969 non-null   float64\n",
      " 6   date            9969 non-null   object \n",
      " 7   time            9969 non-null   object \n",
      " 8   payment_method  9969 non-null   object \n",
      " 9   rating          9969 non-null   float64\n",
      " 10  profit_margin   9969 non-null   float64\n",
      "dtypes: float64(3), int64(1), object(7)\n",
      "memory usage: 934.6+ KB\n"
     ]
    }
   ],
   "source": [
    "df.info()"
   ]
  },
  {
   "cell_type": "markdown",
   "id": "5818171e-01ab-49e7-8a42-78c4e641987b",
   "metadata": {},
   "source": [
    "#### 3.3 Viewing statistics of numerical columns"
   ]
  },
  {
   "cell_type": "code",
   "execution_count": 14,
   "id": "e369a84c-ae2c-40dc-892a-88d330afab81",
   "metadata": {},
   "outputs": [
    {
     "data": {
      "text/html": [
       "<div>\n",
       "<style scoped>\n",
       "    .dataframe tbody tr th:only-of-type {\n",
       "        vertical-align: middle;\n",
       "    }\n",
       "\n",
       "    .dataframe tbody tr th {\n",
       "        vertical-align: top;\n",
       "    }\n",
       "\n",
       "    .dataframe thead th {\n",
       "        text-align: right;\n",
       "    }\n",
       "</style>\n",
       "<table border=\"1\" class=\"dataframe\">\n",
       "  <thead>\n",
       "    <tr style=\"text-align: right;\">\n",
       "      <th></th>\n",
       "      <th>invoice_id</th>\n",
       "      <th>quantity</th>\n",
       "      <th>rating</th>\n",
       "      <th>profit_margin</th>\n",
       "    </tr>\n",
       "  </thead>\n",
       "  <tbody>\n",
       "    <tr>\n",
       "      <th>count</th>\n",
       "      <td>9969.000000</td>\n",
       "      <td>9969.000000</td>\n",
       "      <td>9969.000000</td>\n",
       "      <td>9969.000000</td>\n",
       "    </tr>\n",
       "    <tr>\n",
       "      <th>mean</th>\n",
       "      <td>5010.116561</td>\n",
       "      <td>2.355602</td>\n",
       "      <td>5.828839</td>\n",
       "      <td>0.393744</td>\n",
       "    </tr>\n",
       "    <tr>\n",
       "      <th>std</th>\n",
       "      <td>2886.217349</td>\n",
       "      <td>1.605455</td>\n",
       "      <td>1.763723</td>\n",
       "      <td>0.090659</td>\n",
       "    </tr>\n",
       "    <tr>\n",
       "      <th>min</th>\n",
       "      <td>1.000000</td>\n",
       "      <td>1.000000</td>\n",
       "      <td>3.000000</td>\n",
       "      <td>0.180000</td>\n",
       "    </tr>\n",
       "    <tr>\n",
       "      <th>25%</th>\n",
       "      <td>2524.000000</td>\n",
       "      <td>1.000000</td>\n",
       "      <td>4.000000</td>\n",
       "      <td>0.330000</td>\n",
       "    </tr>\n",
       "    <tr>\n",
       "      <th>50%</th>\n",
       "      <td>5016.000000</td>\n",
       "      <td>2.000000</td>\n",
       "      <td>6.000000</td>\n",
       "      <td>0.330000</td>\n",
       "    </tr>\n",
       "    <tr>\n",
       "      <th>75%</th>\n",
       "      <td>7508.000000</td>\n",
       "      <td>3.000000</td>\n",
       "      <td>7.000000</td>\n",
       "      <td>0.480000</td>\n",
       "    </tr>\n",
       "    <tr>\n",
       "      <th>max</th>\n",
       "      <td>10000.000000</td>\n",
       "      <td>10.000000</td>\n",
       "      <td>10.000000</td>\n",
       "      <td>0.570000</td>\n",
       "    </tr>\n",
       "  </tbody>\n",
       "</table>\n",
       "</div>"
      ],
      "text/plain": [
       "         invoice_id     quantity       rating  profit_margin\n",
       "count   9969.000000  9969.000000  9969.000000    9969.000000\n",
       "mean    5010.116561     2.355602     5.828839       0.393744\n",
       "std     2886.217349     1.605455     1.763723       0.090659\n",
       "min        1.000000     1.000000     3.000000       0.180000\n",
       "25%     2524.000000     1.000000     4.000000       0.330000\n",
       "50%     5016.000000     2.000000     6.000000       0.330000\n",
       "75%     7508.000000     3.000000     7.000000       0.480000\n",
       "max    10000.000000    10.000000    10.000000       0.570000"
      ]
     },
     "execution_count": 14,
     "metadata": {},
     "output_type": "execute_result"
    }
   ],
   "source": [
    "df.describe()"
   ]
  },
  {
   "cell_type": "markdown",
   "id": "34baa734-5873-4a0b-ac74-3ce3631089f3",
   "metadata": {},
   "source": [
    "#### 3.4 Hanndling categorical/Ordinal data"
   ]
  },
  {
   "cell_type": "code",
   "execution_count": 15,
   "id": "b8140926-b24c-4c05-bb9c-cce1fefc3678",
   "metadata": {},
   "outputs": [
    {
     "name": "stdout",
     "output_type": "stream",
     "text": [
      "Number of branches = 100\n"
     ]
    }
   ],
   "source": [
    "print('Number of branches =',df['Branch'].nunique())"
   ]
  },
  {
   "cell_type": "code",
   "execution_count": 16,
   "id": "22a77c5a-46d1-4d08-913b-48698a489538",
   "metadata": {},
   "outputs": [
    {
     "name": "stdout",
     "output_type": "stream",
     "text": [
      "Number of cities  ['San Antonio' 'Harlingen' 'Haltom City' 'Bedford' 'Irving' 'Denton'\n",
      " 'Cleburne' 'Canyon' 'Grapevine' 'Texas City' 'San Angelo' 'Abilene'\n",
      " 'Lewisville' 'Corpus Christi' 'Round Rock' 'Cedar Park' 'Conroe' 'Pharr'\n",
      " 'Farmers Branch' 'Midland' 'Houston' 'Lancaster' 'Temple' 'Garland'\n",
      " 'San Marcos' 'Huntsville' 'Mineral Wells' 'McAllen' 'Eagle Pass'\n",
      " 'Mesquite' 'Big Spring' 'Mission' 'Hurst' 'Richardson' 'Pearland'\n",
      " 'La Porte' 'Bryan' 'Allen' 'Rowlett' 'Port Arthur' 'Grand Prairie'\n",
      " 'Georgetown' 'Southlake' 'Angleton' 'Missouri City' 'Fort Worth'\n",
      " 'Del Rio' 'League City' 'Rockwall' 'Waxahachie' 'Killeen' 'Arlington'\n",
      " 'McKinney' 'Alamo' 'Lufkin' 'Brownwood' 'Alice' 'Baytown' 'Lubbock'\n",
      " 'North Richland Hills' 'Edinburg' 'College Station' 'Amarillo' 'Austin'\n",
      " 'Euless' 'Sugar Land' 'Waco' 'Carrollton' 'Kerrville' 'Brownsville'\n",
      " 'Frisco' 'Burleson' 'Dallas' 'Galveston' 'Mansfield' 'Flower Mound'\n",
      " 'Sherman' 'Weatherford' 'Weslaco' 'Odessa' 'Pasadena' 'Schertz'\n",
      " 'Longview' 'DeSoto' 'Seguin' 'Pflugerville' 'Rosenberg' 'Victoria'\n",
      " 'Friendswood' 'Plano' 'Coppell' 'Little Elm' 'New Braunfels' 'Laredo'\n",
      " 'Tyler' 'El Paso' 'Lake Jackson' 'Nacogdoches']\n"
     ]
    }
   ],
   "source": [
    "print('Number of cities ',df['City'].unique())              "
   ]
  },
  {
   "cell_type": "code",
   "execution_count": 17,
   "id": "5f772e22-38c6-4d53-b02d-54288d0e74a1",
   "metadata": {},
   "outputs": [
    {
     "name": "stdout",
     "output_type": "stream",
     "text": [
      "['Health and beauty' 'Electronic accessories' 'Home and lifestyle'\n",
      " 'Sports and travel' 'Food and beverages' 'Fashion accessories']\n"
     ]
    }
   ],
   "source": [
    "print(df['category'].unique()) "
   ]
  },
  {
   "cell_type": "code",
   "execution_count": 18,
   "id": "9a7edec7-67fe-4f8f-be0b-320434559d9f",
   "metadata": {},
   "outputs": [
    {
     "name": "stderr",
     "output_type": "stream",
     "text": [
      "C:\\Users\\User\\AppData\\Local\\Temp\\ipykernel_10360\\3698849553.py:1: UserWarning: Could not infer format, so each element will be parsed individually, falling back to `dateutil`. To ensure parsing is consistent and as-expected, please specify a format.\n",
      "  df['sale_date']=pd.to_datetime(df['date'])\n"
     ]
    }
   ],
   "source": [
    "df['sale_date']=pd.to_datetime(df['date'])\n"
   ]
  },
  {
   "cell_type": "code",
   "execution_count": 19,
   "id": "a22ea1dc-2223-423f-abd8-8d6caaa35f99",
   "metadata": {},
   "outputs": [],
   "source": [
    "df['tr_year']=df['sale_date'].dt.year"
   ]
  },
  {
   "cell_type": "code",
   "execution_count": 20,
   "id": "89d9473d-0fa5-4c62-a078-a06bc258d124",
   "metadata": {},
   "outputs": [],
   "source": [
    "df['tr_month']=df['sale_date'].dt.month"
   ]
  },
  {
   "cell_type": "code",
   "execution_count": 21,
   "id": "b282d956-1b55-4bc6-96ef-c5014c93db53",
   "metadata": {},
   "outputs": [],
   "source": [
    "df.drop('date',axis=1,inplace=True)"
   ]
  },
  {
   "cell_type": "markdown",
   "id": "29567022-4489-41d4-ace9-d0d9d1ad0f4d",
   "metadata": {},
   "source": [
    "# 4. Data Exploration"
   ]
  },
  {
   "cell_type": "code",
   "execution_count": 22,
   "id": "230e12db-c6ce-4ce5-bbf0-d8502691d256",
   "metadata": {},
   "outputs": [],
   "source": [
    "df['unit_price']=df['unit_price'].str.replace('$',\"\").astype('float')"
   ]
  },
  {
   "cell_type": "markdown",
   "id": "4a4c4dee-0f7f-4533-8f9f-add3183109d7",
   "metadata": {},
   "source": [
    "### 1. Calculating Sales"
   ]
  },
  {
   "cell_type": "code",
   "execution_count": 23,
   "id": "9b8be9d0-b202-4af5-bd7a-2f4b26dca414",
   "metadata": {},
   "outputs": [],
   "source": [
    "df['sales']=df['quantity']*df['unit_price']"
   ]
  },
  {
   "cell_type": "code",
   "execution_count": 24,
   "id": "20ff637b-7fc2-4634-b23c-6c0f6c4d3a79",
   "metadata": {},
   "outputs": [
    {
     "name": "stdout",
     "output_type": "stream",
     "text": [
      "Total Sales = 1209726.38\n"
     ]
    }
   ],
   "source": [
    "print('Total Sales =',df['sales'].sum())"
   ]
  },
  {
   "cell_type": "markdown",
   "id": "0c91d1f6-4921-4315-b646-3a7d62a126bb",
   "metadata": {},
   "source": [
    "### 2. Calculating Cost of Sales"
   ]
  },
  {
   "cell_type": "code",
   "execution_count": 25,
   "id": "74053945-7e76-4092-9b05-bba298870e2f",
   "metadata": {},
   "outputs": [],
   "source": [
    "df['cos']=round((1-df['profit_margin'])*df['unit_price']*df['quantity'],2)"
   ]
  },
  {
   "cell_type": "code",
   "execution_count": 26,
   "id": "3fbbecf8-437b-4d49-a6ab-2dcb4176a3bf",
   "metadata": {},
   "outputs": [
    {
     "name": "stdout",
     "output_type": "stream",
     "text": [
      "Total Cost of Sales = 733586.92\n"
     ]
    }
   ],
   "source": [
    "print('Total Cost of Sales =',df['cos'].sum())"
   ]
  },
  {
   "cell_type": "markdown",
   "id": "a791f0cb-4f88-409a-a04b-b7e201b42b25",
   "metadata": {},
   "source": [
    "### 3. Gross Margin"
   ]
  },
  {
   "cell_type": "code",
   "execution_count": 27,
   "id": "6a8febaa-b9f8-44d7-be61-095469629533",
   "metadata": {},
   "outputs": [
    {
     "name": "stdout",
     "output_type": "stream",
     "text": [
      "Total Gross Margin = 476139 2\n"
     ]
    }
   ],
   "source": [
    "print('Total Gross Margin =',round(df['sales'].sum()-df['cos'].sum()),2)"
   ]
  },
  {
   "cell_type": "markdown",
   "id": "2a8d0f1e-b21f-4418-97f5-8ee5b2244cce",
   "metadata": {},
   "source": [
    "#### 4. Yearwise Analysis of Sales,Cost of Sales and Gross Margin"
   ]
  },
  {
   "cell_type": "code",
   "execution_count": 28,
   "id": "ab7efe1e-f7a7-4bed-ae5b-7e43ab26decf",
   "metadata": {},
   "outputs": [
    {
     "name": "stdout",
     "output_type": "stream",
     "text": [
      "Sales  tr_year\n",
      "2019    307587.38\n",
      "2021    233051.00\n",
      "2023    232260.00\n",
      "2020    219423.00\n",
      "2022    217405.00\n",
      "Name: sales, dtype: float64\n"
     ]
    }
   ],
   "source": [
    "print('Sales ',df.groupby('tr_year')['sales'].sum().sort_values(ascending=False))"
   ]
  },
  {
   "cell_type": "markdown",
   "id": "d856e11c-8525-4fea-b3b7-bf081bc4f06f",
   "metadata": {},
   "source": [
    "#### From the above analysis 2019 was clearly the best in terms of revenue,there was a huge decrease in 2020,yoy change will reveal the percentage change."
   ]
  },
  {
   "cell_type": "code",
   "execution_count": 29,
   "id": "41d12f5a-f28d-47c2-9d57-43f324fe2501",
   "metadata": {},
   "outputs": [
    {
     "name": "stdout",
     "output_type": "stream",
     "text": [
      "Cost Of Sales  tr_year\n",
      "2019    186094.33\n",
      "2021    140953.31\n",
      "2023    140512.23\n",
      "2020    133681.47\n",
      "2022    132345.58\n",
      "Name: cos, dtype: float64\n"
     ]
    }
   ],
   "source": [
    "print('Cost Of Sales ',df.groupby('tr_year')['cos'].sum().sort_values(ascending=False))"
   ]
  },
  {
   "cell_type": "markdown",
   "id": "330259ac-76da-41ad-80b4-7d626d306bee",
   "metadata": {},
   "source": [
    "#### The same observation made about revenue,is applicable to our cost of sales."
   ]
  },
  {
   "cell_type": "code",
   "execution_count": 30,
   "id": "26f8a19d-0d91-489f-b40d-31a1f7a513bc",
   "metadata": {},
   "outputs": [
    {
     "name": "stdout",
     "output_type": "stream",
     "text": [
      "Gross Margin tr_year\n",
      "2019    121493.05\n",
      "2021     92097.69\n",
      "2023     91747.77\n",
      "2020     85741.53\n",
      "2022     85059.42\n",
      "dtype: float64\n"
     ]
    }
   ],
   "source": [
    "print('Gross Margin',df.groupby('tr_year')['sales'].sum().sort_values(ascending=False)-df.groupby('tr_year')['cos'].sum().sort_values(ascending=False))"
   ]
  },
  {
   "cell_type": "code",
   "execution_count": 31,
   "id": "68198e9d-2ea1-48e8-b30e-5db429193516",
   "metadata": {},
   "outputs": [],
   "source": [
    "Yearly_Sales=df.groupby('tr_year')['sales'].sum()"
   ]
  },
  {
   "cell_type": "code",
   "execution_count": 32,
   "id": "c08a2e33-0800-4ee1-98f2-ffb1848703d1",
   "metadata": {},
   "outputs": [
    {
     "data": {
      "text/plain": [
       "tr_year\n",
       "2019          NaN\n",
       "2020    307587.38\n",
       "2021    219423.00\n",
       "2022    233051.00\n",
       "2023    217405.00\n",
       "Name: sales, dtype: float64"
      ]
     },
     "execution_count": 32,
     "metadata": {},
     "output_type": "execute_result"
    }
   ],
   "source": [
    "Yearly_Sales.shift(1)"
   ]
  },
  {
   "cell_type": "code",
   "execution_count": 33,
   "id": "568dc337-8af1-4e01-87ff-04f653e61666",
   "metadata": {},
   "outputs": [
    {
     "data": {
      "text/plain": [
       "tr_year\n",
       "2019         NaN\n",
       "2020   -88164.38\n",
       "2021    13628.00\n",
       "2022   -15646.00\n",
       "2023    14855.00\n",
       "Name: sales, dtype: float64"
      ]
     },
     "execution_count": 33,
     "metadata": {},
     "output_type": "execute_result"
    }
   ],
   "source": [
    "Yearly_Sales-Yearly_Sales.shift(1)"
   ]
  },
  {
   "cell_type": "markdown",
   "id": "3c7a6128-cd59-4080-8cd8-6c832d3105a3",
   "metadata": {},
   "source": [
    "#### The gross margin also resembles the revenue and cost in its movement."
   ]
  },
  {
   "cell_type": "code",
   "execution_count": 34,
   "id": "1c68df25-b4a7-4e31-8c03-116f07a6a7f4",
   "metadata": {},
   "outputs": [
    {
     "data": {
      "text/plain": [
       "tr_year\n",
       "2019     NaN\n",
       "2020   -0.29\n",
       "2021    0.06\n",
       "2022   -0.07\n",
       "2023    0.07\n",
       "Name: sales, dtype: float64"
      ]
     },
     "execution_count": 34,
     "metadata": {},
     "output_type": "execute_result"
    }
   ],
   "source": [
    "round((Yearly_Sales-Yearly_Sales.shift(1))/Yearly_Sales.shift(1),2)"
   ]
  },
  {
   "cell_type": "markdown",
   "id": "af9dbde5-af77-48e3-9e15-55b36e7c0c93",
   "metadata": {},
   "source": [
    "#### Revenue fell by a staggering 29% from 2019 to 2020,this has somewhat stabilised judging by the modest 6%(2021) and 7%(2023)"
   ]
  },
  {
   "cell_type": "code",
   "execution_count": 35,
   "id": "079bec3b-0b94-49ad-96b1-0cdb02517ab2",
   "metadata": {},
   "outputs": [],
   "source": [
    "df['gross_margin']=df.groupby('tr_year')['sales'].sum().sort_values(ascending=False)-df.groupby('tr_year')['cos'].sum().sort_values(ascending=False)"
   ]
  },
  {
   "cell_type": "markdown",
   "id": "b71177ab-3ac3-4bd3-aa85-1f6e5d38f003",
   "metadata": {},
   "source": [
    "#### 4.5 Categorical Sales Analysis"
   ]
  },
  {
   "cell_type": "code",
   "execution_count": 36,
   "id": "2a8a199d-9e66-491e-9109-eda5564c904b",
   "metadata": {},
   "outputs": [
    {
     "name": "stdout",
     "output_type": "stream",
     "text": [
      "Cost of Sales category\n",
      "Fashion accessories       297165.97\n",
      "Home and lifestyle        297036.42\n",
      "Electronic accessories     47402.56\n",
      "Food and beverages         31918.46\n",
      "Sports and travel          31884.07\n",
      "Health and beauty          28179.44\n",
      "Name: cos, dtype: float64\n"
     ]
    }
   ],
   "source": [
    "print('Cost of Sales',df.groupby('category')['cos'].sum().sort_values(ascending=False))"
   ]
  },
  {
   "cell_type": "markdown",
   "id": "de4318d1-5fe4-4863-8913-bc42bec450a9",
   "metadata": {},
   "source": [
    "#### Fashion and Home and Lifestyle are by far the greatest contributors to cost."
   ]
  },
  {
   "cell_type": "code",
   "execution_count": 37,
   "id": "bc78f907-76e0-469d-8663-29e945f7975a",
   "metadata": {},
   "outputs": [
    {
     "name": "stdout",
     "output_type": "stream",
     "text": [
      "Sales category\n",
      "Fashion accessories       489480.90\n",
      "Home and lifestyle        489250.06\n",
      "Electronic accessories     78175.03\n",
      "Food and beverages         53471.28\n",
      "Sports and travel          52497.93\n",
      "Health and beauty          46851.18\n",
      "Name: sales, dtype: float64\n"
     ]
    }
   ],
   "source": [
    "print('Sales',df.groupby('category')['sales'].sum().sort_values(ascending=False))"
   ]
  },
  {
   "cell_type": "markdown",
   "id": "54da1334-8d69-4442-9a21-bbbac3d537b3",
   "metadata": {},
   "source": [
    "#### In terms of Revenue the largest sellers by far are Fashion and Home&Lifestyle,this is where the bulk of the revenue is generated."
   ]
  },
  {
   "cell_type": "code",
   "execution_count": 38,
   "id": "e481e06c-16e3-4172-b92e-e61cb0432eb6",
   "metadata": {},
   "outputs": [],
   "source": [
    "gross_margin =df.groupby('category')['sales'].sum()-df.groupby('category')['cos'].sum()"
   ]
  },
  {
   "cell_type": "code",
   "execution_count": 39,
   "id": "edfabedb-52f5-4835-b2ed-2422d2daa959",
   "metadata": {},
   "outputs": [
    {
     "data": {
      "text/plain": [
       "category\n",
       "Fashion accessories       192314.93\n",
       "Home and lifestyle        192213.64\n",
       "Electronic accessories     30772.47\n",
       "Food and beverages         21552.82\n",
       "Sports and travel          20613.86\n",
       "Health and beauty          18671.74\n",
       "dtype: float64"
      ]
     },
     "execution_count": 39,
     "metadata": {},
     "output_type": "execute_result"
    }
   ],
   "source": [
    "gross_margin.sort_values(ascending=False)"
   ]
  },
  {
   "cell_type": "markdown",
   "id": "023af0f5-d750-4a0b-8f14-1b5b8c564e7a",
   "metadata": {},
   "source": [
    "#### The gross margin also reinforces the observations made above."
   ]
  },
  {
   "cell_type": "code",
   "execution_count": 40,
   "id": "57d57b82-de0f-40b4-909b-1c8a01ac7f2c",
   "metadata": {},
   "outputs": [
    {
     "data": {
      "text/plain": [
       "payment_method\n",
       "Credit card       4256\n",
       "Ewallet           3881\n",
       "Cash              1832\n",
       "Name: count, dtype: int64"
      ]
     },
     "execution_count": 40,
     "metadata": {},
     "output_type": "execute_result"
    }
   ],
   "source": [
    "df[['payment_method']].value_counts()"
   ]
  },
  {
   "cell_type": "markdown",
   "id": "bc7ccc1e-308a-403d-a4ef-e46aef372faa",
   "metadata": {},
   "source": [
    "#### The most utilised payment method in branches is displayed above."
   ]
  },
  {
   "cell_type": "code",
   "execution_count": 41,
   "id": "8413afe7-1896-4e58-be58-17e0d643fb55",
   "metadata": {},
   "outputs": [
    {
     "data": {
      "text/plain": [
       "Branch   payment_method\n",
       "WALM058  Credit card       145\n",
       "WALM009  Credit card       139\n",
       "WALM084  Credit card       125\n",
       "WALM055  Credit card       122\n",
       "WALM074  Cash              121\n",
       "WALM030  Credit card       120\n",
       "WALM069  Credit card       118\n",
       "WALM046  Credit card       117\n",
       "WALM087  Credit card       117\n",
       "WALM003  Credit card       115\n",
       "Name: invoice_id, dtype: int64"
      ]
     },
     "execution_count": 41,
     "metadata": {},
     "output_type": "execute_result"
    }
   ],
   "source": [
    "df.groupby(['Branch','payment_method'])['invoice_id'].count().nlargest(10)"
   ]
  },
  {
   "cell_type": "markdown",
   "id": "a305b701-470c-4b87-a8b9-b8ebc5356207",
   "metadata": {},
   "source": [
    "#### This displays the number of transactions by payment method and branch"
   ]
  },
  {
   "cell_type": "code",
   "execution_count": 42,
   "id": "4eceec19-6f81-40bd-a442-2f2106dbf42c",
   "metadata": {},
   "outputs": [
    {
     "name": "stdout",
     "output_type": "stream",
     "text": [
      "Total Quantity Sold = 23483.0\n"
     ]
    }
   ],
   "source": [
    "print('Total Quantity Sold =',df['quantity'].sum())"
   ]
  },
  {
   "cell_type": "code",
   "execution_count": 43,
   "id": "b45a0b78-ed7c-4a48-842a-25472e70ad74",
   "metadata": {},
   "outputs": [
    {
     "name": "stdout",
     "output_type": "stream",
     "text": [
      "Quantity by Payment Method payment_method\n",
      "Credit card    9567.0\n",
      "Ewallet        8932.0\n",
      "Cash           4984.0\n",
      "Name: quantity, dtype: float64\n"
     ]
    }
   ],
   "source": [
    "print('Quantity by Payment Method',df.groupby('payment_method')['quantity'].sum().sort_values(ascending=False))"
   ]
  },
  {
   "cell_type": "markdown",
   "id": "153b4ff8-2deb-4958-a5d7-4ff759b57ac8",
   "metadata": {},
   "source": [
    "#### 4.6 Sales Quantity Analysis"
   ]
  },
  {
   "cell_type": "code",
   "execution_count": 44,
   "id": "6b7b78ef-46fa-436c-b11d-640f2053d9b6",
   "metadata": {},
   "outputs": [],
   "source": [
    "Qty=df.groupby('tr_year')['quantity'].sum()"
   ]
  },
  {
   "cell_type": "code",
   "execution_count": 45,
   "id": "fb9b2ab0-af11-4d17-a52c-becc9d05ffdd",
   "metadata": {},
   "outputs": [
    {
     "data": {
      "text/plain": [
       "tr_year\n",
       "2019    5510.0\n",
       "2020    4399.0\n",
       "2021    4637.0\n",
       "2022    4402.0\n",
       "2023    4535.0\n",
       "Name: quantity, dtype: float64"
      ]
     },
     "execution_count": 45,
     "metadata": {},
     "output_type": "execute_result"
    }
   ],
   "source": [
    "Qty"
   ]
  },
  {
   "cell_type": "markdown",
   "id": "c2b9f2c2-4245-43f3-8968-b05b7ff09fca",
   "metadata": {},
   "source": [
    "#### Displays the yearly Sales quantity "
   ]
  },
  {
   "cell_type": "code",
   "execution_count": 46,
   "id": "39ca5251-519c-48f1-93e7-2c16ce680264",
   "metadata": {},
   "outputs": [
    {
     "data": {
      "text/plain": [
       "tr_year\n",
       "2019       NaN\n",
       "2020    5510.0\n",
       "2021    4399.0\n",
       "2022    4637.0\n",
       "2023    4402.0\n",
       "Name: quantity, dtype: float64"
      ]
     },
     "execution_count": 46,
     "metadata": {},
     "output_type": "execute_result"
    }
   ],
   "source": [
    "Qty.shift(1)"
   ]
  },
  {
   "cell_type": "code",
   "execution_count": 47,
   "id": "23a9fea7-e13d-4b57-be10-6954ce1d9ac2",
   "metadata": {},
   "outputs": [
    {
     "data": {
      "text/plain": [
       "tr_year\n",
       "2019       NaN\n",
       "2020   -1111.0\n",
       "2021     238.0\n",
       "2022    -235.0\n",
       "2023     133.0\n",
       "Name: quantity, dtype: float64"
      ]
     },
     "execution_count": 47,
     "metadata": {},
     "output_type": "execute_result"
    }
   ],
   "source": [
    "Qty-Qty.shift(1)"
   ]
  },
  {
   "cell_type": "markdown",
   "id": "f0274d5f-b74b-4a34-a6ae-ebf4b89098cc",
   "metadata": {},
   "source": [
    "#### This displays the value of the change in sales quantity by year.As observed in the sales analysis the reason for the large drop in sales 2020,was as a result of a huge drop in sales quantities."
   ]
  },
  {
   "cell_type": "code",
   "execution_count": 48,
   "id": "29e77b00-5ebe-43df-b833-da215e3a2088",
   "metadata": {},
   "outputs": [
    {
     "data": {
      "text/plain": [
       "tr_year\n",
       "2019     NaN\n",
       "2020   -0.20\n",
       "2021    0.05\n",
       "2022   -0.05\n",
       "2023    0.03\n",
       "Name: quantity, dtype: float64"
      ]
     },
     "execution_count": 48,
     "metadata": {},
     "output_type": "execute_result"
    }
   ],
   "source": [
    "round((Qty-Qty.shift(1))*1.0/Qty.shift(1),2)"
   ]
  },
  {
   "cell_type": "markdown",
   "id": "171b2d9b-77da-404d-9ab5-350af73553b7",
   "metadata": {},
   "source": [
    "#### The huge drop in sales quantity between 2019 and 2020 was in effect 20% yoy,this resulted in a 29% decrement in sales value as mentioned in the sales revenue analysis."
   ]
  },
  {
   "cell_type": "code",
   "execution_count": null,
   "id": "e40bbc1b-7b30-4eee-81de-d24310e02b9a",
   "metadata": {},
   "outputs": [],
   "source": []
  },
  {
   "cell_type": "code",
   "execution_count": null,
   "id": "5def5ba3-c44d-4f57-82da-dd96a2f984f7",
   "metadata": {},
   "outputs": [],
   "source": []
  },
  {
   "cell_type": "code",
   "execution_count": null,
   "id": "a828157e-78b7-4a27-83ec-5e390daefd37",
   "metadata": {},
   "outputs": [],
   "source": []
  },
  {
   "cell_type": "code",
   "execution_count": null,
   "id": "9a45997d-a992-4b34-8986-51f3fa2c60e4",
   "metadata": {},
   "outputs": [],
   "source": []
  },
  {
   "cell_type": "code",
   "execution_count": null,
   "id": "e7de0a63-5e2a-4252-b16b-b45fd60ed8ef",
   "metadata": {},
   "outputs": [],
   "source": []
  },
  {
   "cell_type": "code",
   "execution_count": null,
   "id": "e9ef1488-80c2-44f0-966a-dec8512703f7",
   "metadata": {},
   "outputs": [],
   "source": []
  },
  {
   "cell_type": "code",
   "execution_count": null,
   "id": "e128f055-195d-45d1-bb8f-e1606a327291",
   "metadata": {},
   "outputs": [],
   "source": []
  },
  {
   "cell_type": "code",
   "execution_count": null,
   "id": "7efeffcd-87ed-41b2-99da-02ce35cc2c8b",
   "metadata": {},
   "outputs": [],
   "source": []
  },
  {
   "cell_type": "code",
   "execution_count": null,
   "id": "d84c1081-b541-4d1c-9196-b71ffedc2458",
   "metadata": {},
   "outputs": [],
   "source": []
  },
  {
   "cell_type": "code",
   "execution_count": null,
   "id": "b80d2510-7d20-4777-b54a-01d18252ca37",
   "metadata": {},
   "outputs": [],
   "source": []
  },
  {
   "cell_type": "code",
   "execution_count": null,
   "id": "6cff2f00-4c1f-4c77-8189-bd7ab0841238",
   "metadata": {},
   "outputs": [],
   "source": []
  },
  {
   "cell_type": "code",
   "execution_count": null,
   "id": "2b99c5f7-bdf9-4a28-b7a5-0c5cad02f480",
   "metadata": {},
   "outputs": [],
   "source": []
  },
  {
   "cell_type": "code",
   "execution_count": null,
   "id": "ebc25ff1-ab81-47a2-96c7-704d544e910a",
   "metadata": {},
   "outputs": [],
   "source": []
  },
  {
   "cell_type": "code",
   "execution_count": null,
   "id": "9efa987c-7f78-4eb1-b640-8c29f3d190d9",
   "metadata": {},
   "outputs": [],
   "source": []
  },
  {
   "cell_type": "code",
   "execution_count": null,
   "id": "0d5e12c4-7f16-4c95-bffd-0ba6611143ec",
   "metadata": {},
   "outputs": [],
   "source": []
  },
  {
   "cell_type": "code",
   "execution_count": null,
   "id": "fabbbdae-62c9-413c-a280-2b69f99b3fea",
   "metadata": {},
   "outputs": [],
   "source": []
  },
  {
   "cell_type": "code",
   "execution_count": null,
   "id": "7041bf83-0dc7-453c-9e67-83cb83b57de3",
   "metadata": {},
   "outputs": [],
   "source": []
  },
  {
   "cell_type": "code",
   "execution_count": null,
   "id": "f9d4865a-41c4-47d4-a8a0-552fc2494fc7",
   "metadata": {},
   "outputs": [],
   "source": []
  },
  {
   "cell_type": "code",
   "execution_count": null,
   "id": "8b36db50-46c1-4e01-9a06-953a02f6977d",
   "metadata": {},
   "outputs": [],
   "source": []
  },
  {
   "cell_type": "code",
   "execution_count": null,
   "id": "fe1c08e7-4fde-498d-862a-9f8012319d19",
   "metadata": {},
   "outputs": [],
   "source": []
  },
  {
   "cell_type": "code",
   "execution_count": null,
   "id": "7a2ba8a6-e3db-483b-9d8e-7445033d1302",
   "metadata": {},
   "outputs": [],
   "source": []
  },
  {
   "cell_type": "code",
   "execution_count": null,
   "id": "d4db0dac-7907-4658-9b08-e46f35fa3af7",
   "metadata": {},
   "outputs": [],
   "source": []
  }
 ],
 "metadata": {
  "kernelspec": {
   "display_name": "Python 3 (ipykernel)",
   "language": "python",
   "name": "python3"
  },
  "language_info": {
   "codemirror_mode": {
    "name": "ipython",
    "version": 3
   },
   "file_extension": ".py",
   "mimetype": "text/x-python",
   "name": "python",
   "nbconvert_exporter": "python",
   "pygments_lexer": "ipython3",
   "version": "3.13.3"
  }
 },
 "nbformat": 4,
 "nbformat_minor": 5
}
